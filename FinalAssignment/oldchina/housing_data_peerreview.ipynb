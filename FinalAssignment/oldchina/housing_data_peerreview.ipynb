{
 "cells": [
  {
   "cell_type": "code",
   "execution_count": 4,
   "id": "38a4ad06",
   "metadata": {},
   "outputs": [
    {
     "data": {
      "text/html": [
       "<div>\n",
       "<style scoped>\n",
       "    .dataframe tbody tr th:only-of-type {\n",
       "        vertical-align: middle;\n",
       "    }\n",
       "\n",
       "    .dataframe tbody tr th {\n",
       "        vertical-align: top;\n",
       "    }\n",
       "\n",
       "    .dataframe thead th {\n",
       "        text-align: right;\n",
       "    }\n",
       "</style>\n",
       "<table border=\"1\" class=\"dataframe\">\n",
       "  <thead>\n",
       "    <tr style=\"text-align: right;\">\n",
       "      <th></th>\n",
       "      <th>size</th>\n",
       "      <th>price</th>\n",
       "    </tr>\n",
       "  </thead>\n",
       "  <tbody>\n",
       "    <tr>\n",
       "      <th>0</th>\n",
       "      <td>1842.51</td>\n",
       "      <td>500681.128</td>\n",
       "    </tr>\n",
       "    <tr>\n",
       "      <th>1</th>\n",
       "      <td>1508.84</td>\n",
       "      <td>494778.992</td>\n",
       "    </tr>\n",
       "    <tr>\n",
       "      <th>2</th>\n",
       "      <td>1504.75</td>\n",
       "      <td>458674.256</td>\n",
       "    </tr>\n",
       "    <tr>\n",
       "      <th>3</th>\n",
       "      <td>1504.75</td>\n",
       "      <td>454512.760</td>\n",
       "    </tr>\n",
       "    <tr>\n",
       "      <th>4</th>\n",
       "      <td>1496.36</td>\n",
       "      <td>444192.008</td>\n",
       "    </tr>\n",
       "  </tbody>\n",
       "</table>\n",
       "</div>"
      ],
      "text/plain": [
       "      size       price\n",
       "0  1842.51  500681.128\n",
       "1  1508.84  494778.992\n",
       "2  1504.75  458674.256\n",
       "3  1504.75  454512.760\n",
       "4  1496.36  444192.008"
      ]
     },
     "execution_count": 4,
     "metadata": {},
     "output_type": "execute_result"
    }
   ],
   "source": [
    "import pandas as pd\n",
    "df=pd.read_csv('Housing_Data.csv')\n",
    "df.head()"
   ]
  },
  {
   "cell_type": "code",
   "execution_count": 6,
   "id": "f4cb5fd6",
   "metadata": {},
   "outputs": [
    {
     "data": {
      "text/html": [
       "<div>\n",
       "<style scoped>\n",
       "    .dataframe tbody tr th:only-of-type {\n",
       "        vertical-align: middle;\n",
       "    }\n",
       "\n",
       "    .dataframe tbody tr th {\n",
       "        vertical-align: top;\n",
       "    }\n",
       "\n",
       "    .dataframe thead th {\n",
       "        text-align: right;\n",
       "    }\n",
       "</style>\n",
       "<table border=\"1\" class=\"dataframe\">\n",
       "  <thead>\n",
       "    <tr style=\"text-align: right;\">\n",
       "      <th></th>\n",
       "      <th>size</th>\n",
       "      <th>price</th>\n",
       "    </tr>\n",
       "  </thead>\n",
       "  <tbody>\n",
       "    <tr>\n",
       "      <th>99</th>\n",
       "      <td>479.75</td>\n",
       "      <td>154282.128</td>\n",
       "    </tr>\n",
       "    <tr>\n",
       "      <th>98</th>\n",
       "      <td>487.29</td>\n",
       "      <td>168047.264</td>\n",
       "    </tr>\n",
       "    <tr>\n",
       "      <th>97</th>\n",
       "      <td>518.38</td>\n",
       "      <td>171795.240</td>\n",
       "    </tr>\n",
       "    <tr>\n",
       "      <th>96</th>\n",
       "      <td>525.81</td>\n",
       "      <td>175716.480</td>\n",
       "    </tr>\n",
       "    <tr>\n",
       "      <th>95</th>\n",
       "      <td>525.81</td>\n",
       "      <td>180307.216</td>\n",
       "    </tr>\n",
       "    <tr>\n",
       "      <th>...</th>\n",
       "      <td>...</td>\n",
       "      <td>...</td>\n",
       "    </tr>\n",
       "    <tr>\n",
       "      <th>4</th>\n",
       "      <td>1496.36</td>\n",
       "      <td>444192.008</td>\n",
       "    </tr>\n",
       "    <tr>\n",
       "      <th>3</th>\n",
       "      <td>1504.75</td>\n",
       "      <td>454512.760</td>\n",
       "    </tr>\n",
       "    <tr>\n",
       "      <th>2</th>\n",
       "      <td>1504.75</td>\n",
       "      <td>458674.256</td>\n",
       "    </tr>\n",
       "    <tr>\n",
       "      <th>1</th>\n",
       "      <td>1508.84</td>\n",
       "      <td>494778.992</td>\n",
       "    </tr>\n",
       "    <tr>\n",
       "      <th>0</th>\n",
       "      <td>1842.51</td>\n",
       "      <td>500681.128</td>\n",
       "    </tr>\n",
       "  </tbody>\n",
       "</table>\n",
       "<p>100 rows × 2 columns</p>\n",
       "</div>"
      ],
      "text/plain": [
       "       size       price\n",
       "99   479.75  154282.128\n",
       "98   487.29  168047.264\n",
       "97   518.38  171795.240\n",
       "96   525.81  175716.480\n",
       "95   525.81  180307.216\n",
       "..      ...         ...\n",
       "4   1496.36  444192.008\n",
       "3   1504.75  454512.760\n",
       "2   1504.75  458674.256\n",
       "1   1508.84  494778.992\n",
       "0   1842.51  500681.128\n",
       "\n",
       "[100 rows x 2 columns]"
      ]
     },
     "execution_count": 6,
     "metadata": {},
     "output_type": "execute_result"
    }
   ],
   "source": [
    "df=df.sort_values(by='price')\n",
    "df"
   ]
  },
  {
   "cell_type": "code",
   "execution_count": 7,
   "id": "86ecbe32",
   "metadata": {},
   "outputs": [],
   "source": [
    "import numpy as np\n",
    "import sympy as sy\n",
    "x = sy.Matrix(np.array([[1,479.75],[1,487.29],[1,518.38],[1,525.81],[1,525.81],[1,549.69],[1,549.8],[1,549.8],[1,549.8],\n",
    "[1,569.17],[1,570.25],[1,570.89],[1,570.89],[1,575.19],[1,597.9],[1,601.66],[1,617.05],[1,620.71],[1,620.82],[1,622.97],\n",
    "[1,623.94],[1,633.19],[1,633.19],[1,643.09],[1,643.09],[1,643.41],[1,647.5],[1,647.5],[1,648.29],[1,656.22],[1,656.22],\n",
    "[1,681.07],[1,681.07],[1,681.07],[1,681.07],[1,681.07],[1,682.26],[1,682.26],[1,682.26],[1,685.48],[1,685.48],\n",
    "[1,685.48],\n",
    "[1,685.48],\n",
    "[1,685.48],\n",
    "[1,685.48],\n",
    "[1,690.54],\n",
    "[1,694.52],\n",
    "[1,694.52],\n",
    "[1,694.52],\n",
    "[1,694.52],\n",
    "[1,698.29],\n",
    "[1,698.29],\n",
    "[1,698.29],\n",
    "[1,698.29],\n",
    "[1,698.29],\n",
    "[1,698.5],\n",
    "[1,705.29],\n",
    "[1,727.88],\n",
    "[1,823.21],\n",
    "[1,823.21],\n",
    "[1,827.09],\n",
    "[1,827.84],\n",
    "[1,828.16],\n",
    "[1,857.54],\n",
    "[1,1009.25],\n",
    "[1,1009.25],\n",
    "[1,1009.25],\n",
    "[1,1010.33],\n",
    "[1,1021.95],\n",
    "[1,1021.95],\n",
    "[1,1021.95],\n",
    "[1,1021.95],\n",
    "[1,1021.95],\n",
    "[1,1027.76],\n",
    "[1,1028.41],\n",
    "[1,1032.06],\n",
    "[1,1037.44],\n",
    "[1,1060.36],\n",
    "[1,1060.36],\n",
    "[1,1071.55],\n",
    "[1,1103.3],\n",
    "[1,1122.34],\n",
    "[1,1183.46],\n",
    "[1,1188.62],\n",
    "[1,1205.62],\n",
    "[1,1207.45],\n",
    "[1,1236.93],\n",
    "[1,1275.46],\n",
    "[1,1283.85],\n",
    "[1,1300.96],\n",
    "[1,1334.1],\n",
    "[1,1334.1],\n",
    "[1,1334.1],\n",
    "[1,1379.72],\n",
    "[1,1496.36],\n",
    "[1,1496.36],\n",
    "[1,1504.75],\n",
    "[1,1504.75],\n",
    "[1,1508.84],\n",
    "[1,1842.51]]\n",
    "))\n",
    "y=sy.Matrix(np.array([[154282.128],\n",
    "[168047.264],\n",
    "[171795.24],\n",
    "[175716.48],\n",
    "[180307.216],\n",
    "[181587.576],\n",
    "[183459.488],\n",
    "[190909.056],\n",
    "[191486.896],\n",
    "[201778.048],\n",
    "[204302.976],\n",
    "[207742.248],\n",
    "[211724.096],\n",
    "[211904.536],\n",
    "[215472.104],\n",
    "[217468.224],\n",
    "[218630.608],\n",
    "[225145.248],\n",
    "[225451.984],\n",
    "[225452.32],\n",
    "[225656.12],\n",
    "[228313.024],\n",
    "[228581.528],\n",
    "[233493.208],\n",
    "[234178.16],\n",
    "[234314.144],\n",
    "[245050.28],\n",
    "[245747.2],\n",
    "[248337.6],\n",
    "[251140.656],\n",
    "[251188.824],\n",
    "[251332.592],\n",
    "[251560.04],\n",
    "[252460.4],\n",
    "[255629.16],\n",
    "[257828.416],\n",
    "[258637.008],\n",
    "[262423.504],\n",
    "[262477.856],\n",
    "[263311.696],\n",
    "[265129.064],\n",
    "[266684.248],\n",
    "[268125.08],\n",
    "[269225.92],\n",
    "[269523.056],\n",
    "[271726.752],\n",
    "[271793.312],\n",
    "[274922.856],\n",
    "[276875.632],\n",
    "[279555.096],\n",
    "[281626.336],\n",
    "[282683.544],\n",
    "[285223.176],\n",
    "[286161.6],\n",
    "[287350],\n",
    "[292965.216],\n",
    "[293044.496],\n",
    "[294582.944],\n",
    "[297760.44],\n",
    "[298170.88],\n",
    "[298926.496],\n",
    "[299416.976],\n",
    "[300061.48],\n",
    "[301635.728],\n",
    "[302000.92],\n",
    "[302393.384],\n",
    "[303597.216],\n",
    "[304587.272],\n",
    "[310045.712],\n",
    "[310522.592],\n",
    "[320345.52],\n",
    "[327252.112],\n",
    "[330677.128],\n",
    "[331101.344],\n",
    "[334938.872],\n",
    "[338078.168],\n",
    "[342988.456],\n",
    "[354512.112],\n",
    "[355251.2],\n",
    "[359674.44],\n",
    "[362519.72],\n",
    "[365863.936],\n",
    "[368988.432],\n",
    "[376253.808],\n",
    "[382120.152],\n",
    "[383635.568],\n",
    "[393069.76],\n",
    "[395242.096],\n",
    "[401255.608],\n",
    "[406852.304],\n",
    "[408637.816],\n",
    "[412569.472],\n",
    "[414682.648],\n",
    "[418753.008],\n",
    "[440201.616],\n",
    "[444192.008],\n",
    "[454512.76],\n",
    "[458674.256],\n",
    "[494778.992],\n",
    "[500681.128],   \n",
    "]))"
   ]
  },
  {
   "cell_type": "code",
   "execution_count": 8,
   "id": "41fe2cd1",
   "metadata": {},
   "outputs": [
    {
     "data": {
      "text/latex": [
       "$\\displaystyle \\left[\\begin{matrix}100.0 & 85302.42\\\\85302.42 & 81553199.7694\\end{matrix}\\right]$"
      ],
      "text/plain": [
       "Matrix([\n",
       "[   100.0,      85302.42],\n",
       "[85302.42, 81553199.7694]])"
      ]
     },
     "execution_count": 8,
     "metadata": {},
     "output_type": "execute_result"
    }
   ],
   "source": [
    "x.T*x"
   ]
  },
  {
   "cell_type": "code",
   "execution_count": 9,
   "id": "c2e3e9c5",
   "metadata": {},
   "outputs": [
    {
     "data": {
      "text/latex": [
       "$\\displaystyle \\left[\\begin{matrix}29228947.016\\\\27135364370.5316\\end{matrix}\\right]$"
      ],
      "text/plain": [
       "Matrix([\n",
       "[    29228947.016],\n",
       "[27135364370.5316]])"
      ]
     },
     "execution_count": 9,
     "metadata": {},
     "output_type": "execute_result"
    }
   ],
   "source": [
    "p1=x.T*x\n",
    "p=p1.inv()\n",
    "x.T*y"
   ]
  },
  {
   "cell_type": "code",
   "execution_count": 10,
   "id": "0fba28aa",
   "metadata": {},
   "outputs": [
    {
     "data": {
      "text/latex": [
       "$\\displaystyle \\left[\\begin{matrix}78516.7984994268\\\\250.605635409374\\end{matrix}\\right]$"
      ],
      "text/plain": [
       "Matrix([\n",
       "[78516.7984994268],\n",
       "[250.605635409374]])"
      ]
     },
     "execution_count": 10,
     "metadata": {},
     "output_type": "execute_result"
    }
   ],
   "source": [
    "Q=x.T*y\n",
    "A=p*Q\n",
    "A"
   ]
  },
  {
   "cell_type": "code",
   "execution_count": 12,
   "id": "a9f778c3",
   "metadata": {},
   "outputs": [
    {
     "data": {
      "text/latex": [
       "$\\displaystyle \\left[\\begin{matrix}78516.7984994268\\\\250.605635409374\\end{matrix}\\right]$"
      ],
      "text/plain": [
       "Matrix([\n",
       "[78516.7984994268],\n",
       "[250.605635409374]])"
      ]
     },
     "execution_count": 12,
     "metadata": {},
     "output_type": "execute_result"
    }
   ],
   "source": [
    "A=sy.Matrix([[78516.7984994268],[250.605635409374]])\n",
    "A"
   ]
  },
  {
   "cell_type": "code",
   "execution_count": 13,
   "id": "4b8cce8e",
   "metadata": {},
   "outputs": [
    {
     "data": {
      "text/plain": [
       "830333.7047275488"
      ]
     },
     "execution_count": 13,
     "metadata": {},
     "output_type": "execute_result"
    }
   ],
   "source": [
    "def predict_value(p):\n",
    "    return 250.605635409374*p+78516.7984994268\n",
    "predict_value(3000)"
   ]
  },
  {
   "cell_type": "code",
   "execution_count": null,
   "id": "c1ccc493",
   "metadata": {},
   "outputs": [],
   "source": []
  }
 ],
 "metadata": {
  "kernelspec": {
   "display_name": "Python 3 (ipykernel)",
   "language": "python",
   "name": "python3"
  },
  "language_info": {
   "codemirror_mode": {
    "name": "ipython",
    "version": 3
   },
   "file_extension": ".py",
   "mimetype": "text/x-python",
   "name": "python",
   "nbconvert_exporter": "python",
   "pygments_lexer": "ipython3",
   "version": "3.9.12"
  }
 },
 "nbformat": 4,
 "nbformat_minor": 5
}
