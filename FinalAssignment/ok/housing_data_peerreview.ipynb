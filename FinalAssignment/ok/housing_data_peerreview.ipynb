{
 "cells": [
  {
   "cell_type": "code",
   "execution_count": 36,
   "id": "551c3ed5",
   "metadata": {},
   "outputs": [],
   "source": [
    "from IPython.display import Latex\n",
    "import pandas as pd\n",
    "import sympy as sy\n",
    "import numpy as np\n",
    "import matplotlib.pyplot as plt\n",
    "import seaborn as sns"
   ]
  },
  {
   "cell_type": "code",
   "execution_count": 39,
   "id": "ff5e0e0c",
   "metadata": {},
   "outputs": [],
   "source": [
    "data = pd.read_csv(\"HousingData.csv\")"
   ]
  },
  {
   "cell_type": "code",
   "execution_count": 40,
   "id": "e094c610",
   "metadata": {},
   "outputs": [
    {
     "data": {
      "text/html": [
       "<div>\n",
       "<style scoped>\n",
       "    .dataframe tbody tr th:only-of-type {\n",
       "        vertical-align: middle;\n",
       "    }\n",
       "\n",
       "    .dataframe tbody tr th {\n",
       "        vertical-align: top;\n",
       "    }\n",
       "\n",
       "    .dataframe thead th {\n",
       "        text-align: right;\n",
       "    }\n",
       "</style>\n",
       "<table border=\"1\" class=\"dataframe\">\n",
       "  <thead>\n",
       "    <tr style=\"text-align: right;\">\n",
       "      <th></th>\n",
       "      <th>dummy</th>\n",
       "      <th>size</th>\n",
       "      <th>price</th>\n",
       "    </tr>\n",
       "  </thead>\n",
       "  <tbody>\n",
       "    <tr>\n",
       "      <th>99</th>\n",
       "      <td>1</td>\n",
       "      <td>479.75</td>\n",
       "      <td>154282.128</td>\n",
       "    </tr>\n",
       "    <tr>\n",
       "      <th>98</th>\n",
       "      <td>1</td>\n",
       "      <td>525.81</td>\n",
       "      <td>168047.264</td>\n",
       "    </tr>\n",
       "    <tr>\n",
       "      <th>97</th>\n",
       "      <td>1</td>\n",
       "      <td>549.69</td>\n",
       "      <td>171795.240</td>\n",
       "    </tr>\n",
       "    <tr>\n",
       "      <th>96</th>\n",
       "      <td>1</td>\n",
       "      <td>620.82</td>\n",
       "      <td>175716.480</td>\n",
       "    </tr>\n",
       "    <tr>\n",
       "      <th>95</th>\n",
       "      <td>1</td>\n",
       "      <td>681.07</td>\n",
       "      <td>180307.216</td>\n",
       "    </tr>\n",
       "    <tr>\n",
       "      <th>...</th>\n",
       "      <td>...</td>\n",
       "      <td>...</td>\n",
       "      <td>...</td>\n",
       "    </tr>\n",
       "    <tr>\n",
       "      <th>4</th>\n",
       "      <td>1</td>\n",
       "      <td>1300.96</td>\n",
       "      <td>444192.008</td>\n",
       "    </tr>\n",
       "    <tr>\n",
       "      <th>3</th>\n",
       "      <td>1</td>\n",
       "      <td>1496.36</td>\n",
       "      <td>454512.760</td>\n",
       "    </tr>\n",
       "    <tr>\n",
       "      <th>2</th>\n",
       "      <td>1</td>\n",
       "      <td>1275.46</td>\n",
       "      <td>458674.256</td>\n",
       "    </tr>\n",
       "    <tr>\n",
       "      <th>1</th>\n",
       "      <td>1</td>\n",
       "      <td>1842.51</td>\n",
       "      <td>494778.992</td>\n",
       "    </tr>\n",
       "    <tr>\n",
       "      <th>0</th>\n",
       "      <td>1</td>\n",
       "      <td>1508.84</td>\n",
       "      <td>500681.128</td>\n",
       "    </tr>\n",
       "  </tbody>\n",
       "</table>\n",
       "<p>100 rows × 3 columns</p>\n",
       "</div>"
      ],
      "text/plain": [
       "    dummy     size       price\n",
       "99      1   479.75  154282.128\n",
       "98      1   525.81  168047.264\n",
       "97      1   549.69  171795.240\n",
       "96      1   620.82  175716.480\n",
       "95      1   681.07  180307.216\n",
       "..    ...      ...         ...\n",
       "4       1  1300.96  444192.008\n",
       "3       1  1496.36  454512.760\n",
       "2       1  1275.46  458674.256\n",
       "1       1  1842.51  494778.992\n",
       "0       1  1508.84  500681.128\n",
       "\n",
       "[100 rows x 3 columns]"
      ]
     },
     "execution_count": 40,
     "metadata": {},
     "output_type": "execute_result"
    }
   ],
   "source": [
    "data.sort_values(by=\"price\")"
   ]
  },
  {
   "cell_type": "code",
   "execution_count": 41,
   "id": "8c830488",
   "metadata": {},
   "outputs": [],
   "source": [
    "# define predictor and target\n",
    "X = data[['size']] # predictor\n",
    "y = data['price'] # target"
   ]
  },
  {
   "cell_type": "code",
   "execution_count": 42,
   "id": "0c9432bd",
   "metadata": {},
   "outputs": [],
   "source": [
    "# add a column of ones to X (intercept term)\n",
    "X = np.hstack((np.ones((X.shape[0], 1)), X))"
   ]
  },
  {
   "cell_type": "code",
   "execution_count": 43,
   "id": "7ca56234",
   "metadata": {},
   "outputs": [],
   "source": [
    "# calculate theta using normal equation\n",
    "theta = np.linalg.inv(X.T @ X) @ X.T @ y"
   ]
  },
  {
   "cell_type": "code",
   "execution_count": 44,
   "id": "6272d6f4",
   "metadata": {},
   "outputs": [
    {
     "name": "stdout",
     "output_type": "stream",
     "text": [
      "The predicted price for a house with size 3000 sqft is: $771448.83\n"
     ]
    }
   ],
   "source": [
    "# size of the house\n",
    "size = 3000\n",
    "\n",
    "# predict price using theta\n",
    "price = np.array([1, size]).dot(theta)\n",
    "\n",
    "print(\"The predicted price for a house with size 3000 sqft is: ${:.2f}\".format(price))"
   ]
  },
  {
   "cell_type": "code",
   "execution_count": null,
   "id": "d5a1ac34",
   "metadata": {},
   "outputs": [],
   "source": []
  },
  {
   "cell_type": "code",
   "execution_count": null,
   "id": "58dd1700",
   "metadata": {},
   "outputs": [],
   "source": []
  }
 ],
 "metadata": {
  "kernelspec": {
   "display_name": "Python 3 (ipykernel)",
   "language": "python",
   "name": "python3"
  },
  "language_info": {
   "codemirror_mode": {
    "name": "ipython",
    "version": 3
   },
   "file_extension": ".py",
   "mimetype": "text/x-python",
   "name": "python",
   "nbconvert_exporter": "python",
   "pygments_lexer": "ipython3",
   "version": "3.9.13"
  }
 },
 "nbformat": 4,
 "nbformat_minor": 5
}
